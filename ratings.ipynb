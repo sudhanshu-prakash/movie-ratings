{
    "cells": [
        {
            "metadata": {},
            "cell_type": "code",
            "source": "# import ibmos2spark, os\n# @hidden_cell\n\nif os.environ.get('RUNTIME_ENV_LOCATION_TYPE') == 'external':\n    endpoint_fbcd252cef014be9b94a7ae15eae51ad = 'https://s3.ap.cloud-object-storage.appdomain.cloud'\nelse:\n    endpoint_fbcd252cef014be9b94a7ae15eae51ad = 'https://s3.private.ap.cloud-object-storage.appdomain.cloud'\n\ncredentials = {\n    'endpoint': '***************************',\n    'service_id': ''***************************'',\n    'iam_service_endpoint': 'https://iam.cloud.ibm.com/oidc/token',\n    'api_key': '***************************'\n}\n\nconfiguration_name = 'os_fbcd252cef014be9b94a7ae15eae51ad_configs'\ncos = ibmos2spark.CloudObjectStorage(sc, credentials, configuration_name, 'bluemix_cos')\n\nfrom pyspark.sql import SparkSession\nspark = SparkSession.builder.getOrCreate()\ndf_data_1 = spark.read\\\n  .format('org.apache.spark.sql.execution.datasources.csv.CSVFileFormat')\\\n  .option('header', 'true')\\\n  .load(cos.url('title_ratings.csv', 'namebasics-donotdelete-pr-bvmg39rbjy4he8'))\ndf_data_1.head(5)\n",
            "execution_count": null,
            "outputs": []
        },
        {
            "metadata": {},
            "cell_type": "code",
            "source": "",
            "execution_count": null,
            "outputs": []
        }
    ],
    "metadata": {
        "kernelspec": {
            "name": "python37",
            "display_name": "Python 3.7 with Spark",
            "language": "python3"
        },
        "language_info": {
            "name": "python",
            "version": "3.7.10",
            "mimetype": "text/x-python",
            "codemirror_mode": {
                "name": "ipython",
                "version": 3
            },
            "pygments_lexer": "ipython3",
            "nbconvert_exporter": "python",
            "file_extension": ".py"
        }
    },
    "nbformat": 4,
    "nbformat_minor": 1
}